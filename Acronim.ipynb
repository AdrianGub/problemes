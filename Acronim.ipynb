{
 "cells": [
  {
   "cell_type": "markdown",
   "metadata": {},
   "source": [
    "<div id=\"capcalera\">\n",
    "<p><a href=\"https://colab.research.google.com/github/algorismica2019/problemes/blob/master/problemes/Acronim.ipynb\"><img style=\"margin:-10px 10px 20px 0\" width=\"150px\" align=\"right\" src=\"https://raw.githubusercontent.com/algorismica2019/problemes/master/assets/colab-badge.png\" alt=\"Obrir a Colab\" title=\"Obrir i executar a Google Colaboratory\"></a></p>\n",
    "<p style=\"clear:both\"><img align='left' width=\"300px\" style=\"padding-right:10px;float=left\" src=\"https://raw.githubusercontent.com/algorismica2019/problemes/master/assets/al-khwarizmi.png\">Aquest notebook forma part dels continguts teòrics dels problemes de l'assignatura d'<strong>Algorísmica</strong> del Grau d'Enginyeria Informàtica a la <a href=\"https://mat.ub.edu\">Facultat de Matemàtiques i Informàtica</a> de la <a href=\"https://www.ub.edu\">Universitat de Barcelona</a> impartida per <em>Jordi Vitrià</em> i <em>Mireia Ribera</em></p>\n",
    "\n",
    "<p>Els problemes s'ofereixen sota llicència <a href=\"https://creativecommons.org/licenses/by-nc-nd/3.0/us/legalcode\">CC-BY-NC-ND license</a>, i el codi sota <a href=\"https://opensource.org/licenses/MIT\">Llicència MIT</a>.</p>\n",
    "\n",
    "<p style=\"clear:both;text-align:center\">&lt; <a href=\"Numerics.ipynb\">Problemes Numèrics</a> | <a href=\"LListatProblemes.ipynb\">LListat de problemes</a> | <a href=\"AlfabetFonetic.ipynb\">Problema següent</a> &gt; </p>\n",
    "\n",
    "</div>"
   ]
  },
  {
   "cell_type": "markdown",
   "metadata": {},
   "source": [
    "# <span class=\"tema\">( Text )</span> Acrònim"
   ]
  },
  {
   "cell_type": "markdown",
   "metadata": {},
   "source": [
    "Un **acrònim** és una paraula formada al prendre les primeres lletres de les paraules d’una expressió (per exemple, l’acrònim ``RAM`` correspon a l'expressió ``random access memory``). \n",
    "+ Escriu una funció, ``acro``, que a partir d'una frase sense punts, comes o cap signe d'exclamació, n'imprimeixi l’acrònim corresponent. Recorda que els acrònims, independentment de com l’usuari hagi entrat l'expressió, sempre són en majúscules.\n",
    "+ Pots suposar que l'usuari no entra números"
   ]
  },
  {
   "cell_type": "markdown",
   "metadata": {},
   "source": [
    "### Conceptualització problema\n",
    "\n",
    "1. Revisa les funcions de les cadenes i mira si n'hi ha alguna que et pugui ser útils.\n",
    "1. Explica els passos que fa l'algorisme en el cas acro(\"Hola que tal\")\n",
    "1. Hem de considerar algun cas especial?\n",
    "\n",
    "### Testeig\n",
    "\n",
    "Defineix aquí diversos exemples d'execucions que cobreixin els casos que pot presentar l'algorisme, com per exemple:\n",
    "\n",
    "    print(acro(\"Hola que tal\"))  # Això hauria de retornar HQT"
   ]
  },
  {
   "cell_type": "code",
   "execution_count": 1,
   "metadata": {},
   "outputs": [],
   "source": [
    "# Escriu aquí els tests"
   ]
  },
  {
   "cell_type": "markdown",
   "metadata": {},
   "source": [
    "### Implementació"
   ]
  },
  {
   "cell_type": "code",
   "execution_count": null,
   "metadata": {},
   "outputs": [],
   "source": [
    "# Escriu aquí el teu codi seguint el patró donat\n",
    "def acro(frase):\n",
    "    pass"
   ]
  },
  {
   "cell_type": "markdown",
   "metadata": {},
   "source": [
    "### Avaluació (0 a 10 punts)\n",
    "\n",
    "\n",
    "Concepte | Puntuació \n",
    "--- | --- \n",
    "Solució correcta de complexitat O(n) | **6** punts\n",
    "Ús correcte de funcions de Python | **3** punt\n",
    "Solució correcta de complexitat > O(n) | **3** punts \n",
    "Codi comentat i seguint estàndar PEP8 | **+1** punt \n",
    "S'ofereix una funció adicional per mostrar la solució elegantment| **+0.5** punts \n",
    "L'algorisme falla repetidament | **-7** punts \n",
    "L'algorisme falla en algun cas excepcional | **-2** punt\n",
    "No es donen prous exemples d'execució | **-1** punt\n",
    "Codi, noms de variables, solució o comentaris no prou clars | **-1** punt\n",
    "La funció o els paràmetres no s'anomenen com a l'exemple | **-1** punt"
   ]
  },
  {
   "cell_type": "code",
   "execution_count": 1,
   "metadata": {},
   "outputs": [
    {
     "data": {
      "text/html": [
       "<style>404: Not Found\n",
       "</style>"
      ],
      "text/plain": [
       "<IPython.core.display.HTML object>"
      ]
     },
     "execution_count": 1,
     "metadata": {},
     "output_type": "execute_result"
    }
   ],
   "source": [
    "# Executar aquesta cel.la per donar estil al notebook\n",
    "from IPython.core.display import HTML\n",
    "import requests\n",
    "style=requests.get('https://raw.githubusercontent.com/algorismica2019/problemes/master/assets/prova.css').text\n",
    "HTML('<style>{}</style>'.format(style))"
   ]
  },
  {
   "cell_type": "markdown",
   "metadata": {},
   "source": [
    "<div id=\"peu\">\n",
    "<p><a href=\"https://colab.research.google.com/github/algorismica2019/problemes/blob/master/problemes/Acronim.ipynb\"><img style=\"margin:-10px 10px 20px 0\" width=\"150px\" align=\"right\" src=\"https://raw.githubusercontent.com/algorismica2019/problemes/master/assets/colab-badge.png\" alt=\"Obrir a Colab\" title=\"Obrir i executar a Google Colaboratory\"></a></p>\n",
    "<p style=\"clear:both;text-align:center\">&lt; <a href=\"Numerics.ipynb\">Problemes Numèrics</a> | <a href=\"LListatProblemes.ipynb\">LListat de problemes</a> | <a href=\"AlfabetFonetic.ipynb\">Problema següent</a> &gt; </p>\n",
    "</div>"
   ]
  }
 ],
 "metadata": {
  "kernelspec": {
   "display_name": "Python 3",
   "language": "python",
   "name": "python3"
  },
  "language_info": {
   "codemirror_mode": {
    "name": "ipython",
    "version": 3
   },
   "file_extension": ".py",
   "mimetype": "text/x-python",
   "name": "python",
   "nbconvert_exporter": "python",
   "pygments_lexer": "ipython3",
   "version": "3.7.1"
  }
 },
 "nbformat": 4,
 "nbformat_minor": 2
}
